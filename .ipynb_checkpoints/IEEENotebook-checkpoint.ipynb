{
 "cells": [
  {
   "cell_type": "markdown",
   "metadata": {},
   "source": [
    "# IEEE Data - Statistical Analysis"
   ]
  },
  {
   "cell_type": "markdown",
   "metadata": {},
   "source": [
    "Welcome to our sats notebook! We're going to be looking at some data from the IEEE brain bank. The data was taken over 48 trials (16 weeks) with each subject taking part in a baseline pre-test, then multiple types of training tests, and a benchmark post-test after the training trials had been completed. The pre and post tests included the LSAT, as well as a figure series. The training tests included 3 visiospatial tasks and 3 change detection tasks."
   ]
  },
  {
   "cell_type": "markdown",
   "metadata": {},
   "source": [
    "<img src='DataBreakdown.jpg'>"
   ]
  },
  {
   "cell_type": "code",
   "execution_count": 41,
   "metadata": {
    "collapsed": true
   },
   "outputs": [],
   "source": [
    "# just importing the modules we'll need\n",
    "%matplotlib inline\n",
    "import pandas as pd\n",
    "import os\n",
    "import numpy as np\n",
    "import pandas as pd\n",
    "import glob\n",
    "from matplotlib import pyplot as plt\n",
    "import matplotlib.cm as cm\n",
    "import scipy.stats\n",
    "from pylab import plot, show, savefig, xlim, figure, \\\n",
    "                hold, ylim, legend, boxplot, setp, axes\n",
    "    \n",
    "# let's import our data as a dataframe for easy statistical analysis (td for testing data)\n",
    "td = pd.read_csv(os.path.join(os.getcwd(),'PrePostData/TestingDataALL1.csv'))"
   ]
  },
  {
   "cell_type": "markdown",
   "metadata": {},
   "source": [
    "Let's start just by taking a look at the data to see what we're dealing with"
   ]
  },
  {
   "cell_type": "code",
   "execution_count": 3,
   "metadata": {
    "scrolled": true
   },
   "outputs": [
    {
     "data": {
      "text/html": [
       "<div>\n",
       "<style>\n",
       "    .dataframe thead tr:only-child th {\n",
       "        text-align: right;\n",
       "    }\n",
       "\n",
       "    .dataframe thead th {\n",
       "        text-align: left;\n",
       "    }\n",
       "\n",
       "    .dataframe tbody tr th {\n",
       "        vertical-align: top;\n",
       "    }\n",
       "</style>\n",
       "<table border=\"1\" class=\"dataframe\">\n",
       "  <thead>\n",
       "    <tr style=\"text-align: right;\">\n",
       "      <th></th>\n",
       "      <th>Subject</th>\n",
       "      <th>Age</th>\n",
       "      <th>Gender</th>\n",
       "      <th>PreFigureSeries</th>\n",
       "      <th>PreLSATReasoning</th>\n",
       "      <th>PreLetterComp_Accuracy</th>\n",
       "      <th>PreLetterComp_AttemptedTrials</th>\n",
       "      <th>PreLetterComp_CorrectTrials</th>\n",
       "      <th>PreLetterComp_AvgRT</th>\n",
       "      <th>PreLetterComp_AvgCorrectTrialRT</th>\n",
       "      <th>PreDSST_Attempted</th>\n",
       "      <th>PreDSST_Correct</th>\n",
       "      <th>PreDSST_Accuracy</th>\n",
       "      <th>PostFigureSeries</th>\n",
       "      <th>PostLSATReasoning</th>\n",
       "      <th>PrePatternComp_Accuracy</th>\n",
       "      <th>PrePatternComp_AttemptedTrials</th>\n",
       "      <th>PrePatternComp_CorrectTrials</th>\n",
       "      <th>PrePatternComp_AvgRT</th>\n",
       "      <th>PrePatternComp_AvgCorrectTrialRT</th>\n",
       "    </tr>\n",
       "  </thead>\n",
       "  <tbody>\n",
       "    <tr>\n",
       "      <th>0</th>\n",
       "      <td>10</td>\n",
       "      <td>21</td>\n",
       "      <td>1</td>\n",
       "      <td>24</td>\n",
       "      <td>13</td>\n",
       "      <td>0.869565</td>\n",
       "      <td>23.0</td>\n",
       "      <td>20.0</td>\n",
       "      <td>2465.565217</td>\n",
       "      <td>2281.150000</td>\n",
       "      <td>82</td>\n",
       "      <td>82</td>\n",
       "      <td>1.0</td>\n",
       "      <td>25</td>\n",
       "      <td>6</td>\n",
       "      <td>0.976744</td>\n",
       "      <td>43</td>\n",
       "      <td>42</td>\n",
       "      <td>1248.720930</td>\n",
       "      <td>1239.857143</td>\n",
       "    </tr>\n",
       "    <tr>\n",
       "      <th>1</th>\n",
       "      <td>11</td>\n",
       "      <td>20</td>\n",
       "      <td>2</td>\n",
       "      <td>20</td>\n",
       "      <td>15</td>\n",
       "      <td>0.962963</td>\n",
       "      <td>27.0</td>\n",
       "      <td>26.0</td>\n",
       "      <td>2074.962963</td>\n",
       "      <td>2062.730769</td>\n",
       "      <td>113</td>\n",
       "      <td>113</td>\n",
       "      <td>1.0</td>\n",
       "      <td>26</td>\n",
       "      <td>13</td>\n",
       "      <td>1.000000</td>\n",
       "      <td>30</td>\n",
       "      <td>30</td>\n",
       "      <td>1718.400000</td>\n",
       "      <td>1718.400000</td>\n",
       "    </tr>\n",
       "    <tr>\n",
       "      <th>2</th>\n",
       "      <td>12</td>\n",
       "      <td>20</td>\n",
       "      <td>1</td>\n",
       "      <td>15</td>\n",
       "      <td>11</td>\n",
       "      <td>1.000000</td>\n",
       "      <td>21.0</td>\n",
       "      <td>21.0</td>\n",
       "      <td>2679.047619</td>\n",
       "      <td>2679.047619</td>\n",
       "      <td>76</td>\n",
       "      <td>76</td>\n",
       "      <td>1.0</td>\n",
       "      <td>7</td>\n",
       "      <td>10</td>\n",
       "      <td>0.900000</td>\n",
       "      <td>30</td>\n",
       "      <td>27</td>\n",
       "      <td>1839.200000</td>\n",
       "      <td>1858.629630</td>\n",
       "    </tr>\n",
       "    <tr>\n",
       "      <th>3</th>\n",
       "      <td>13</td>\n",
       "      <td>21</td>\n",
       "      <td>2</td>\n",
       "      <td>18</td>\n",
       "      <td>10</td>\n",
       "      <td>0.958333</td>\n",
       "      <td>24.0</td>\n",
       "      <td>23.0</td>\n",
       "      <td>2348.083333</td>\n",
       "      <td>2417.652174</td>\n",
       "      <td>124</td>\n",
       "      <td>124</td>\n",
       "      <td>1.0</td>\n",
       "      <td>19</td>\n",
       "      <td>11</td>\n",
       "      <td>0.936170</td>\n",
       "      <td>47</td>\n",
       "      <td>44</td>\n",
       "      <td>1117.765957</td>\n",
       "      <td>1131.750000</td>\n",
       "    </tr>\n",
       "    <tr>\n",
       "      <th>4</th>\n",
       "      <td>14</td>\n",
       "      <td>21</td>\n",
       "      <td>1</td>\n",
       "      <td>20</td>\n",
       "      <td>14</td>\n",
       "      <td>1.000000</td>\n",
       "      <td>24.0</td>\n",
       "      <td>24.0</td>\n",
       "      <td>2239.333333</td>\n",
       "      <td>2239.333333</td>\n",
       "      <td>106</td>\n",
       "      <td>106</td>\n",
       "      <td>1.0</td>\n",
       "      <td>15</td>\n",
       "      <td>13</td>\n",
       "      <td>0.933333</td>\n",
       "      <td>45</td>\n",
       "      <td>42</td>\n",
       "      <td>1197.733333</td>\n",
       "      <td>1200.238095</td>\n",
       "    </tr>\n",
       "  </tbody>\n",
       "</table>\n",
       "</div>"
      ],
      "text/plain": [
       "   Subject  Age  Gender  PreFigureSeries  PreLSATReasoning  \\\n",
       "0       10   21       1               24                13   \n",
       "1       11   20       2               20                15   \n",
       "2       12   20       1               15                11   \n",
       "3       13   21       2               18                10   \n",
       "4       14   21       1               20                14   \n",
       "\n",
       "   PreLetterComp_Accuracy  PreLetterComp_AttemptedTrials  \\\n",
       "0                0.869565                           23.0   \n",
       "1                0.962963                           27.0   \n",
       "2                1.000000                           21.0   \n",
       "3                0.958333                           24.0   \n",
       "4                1.000000                           24.0   \n",
       "\n",
       "   PreLetterComp_CorrectTrials  PreLetterComp_AvgRT  \\\n",
       "0                         20.0          2465.565217   \n",
       "1                         26.0          2074.962963   \n",
       "2                         21.0          2679.047619   \n",
       "3                         23.0          2348.083333   \n",
       "4                         24.0          2239.333333   \n",
       "\n",
       "   PreLetterComp_AvgCorrectTrialRT  PreDSST_Attempted  PreDSST_Correct  \\\n",
       "0                      2281.150000                 82               82   \n",
       "1                      2062.730769                113              113   \n",
       "2                      2679.047619                 76               76   \n",
       "3                      2417.652174                124              124   \n",
       "4                      2239.333333                106              106   \n",
       "\n",
       "   PreDSST_Accuracy  PostFigureSeries  PostLSATReasoning  \\\n",
       "0               1.0                25                  6   \n",
       "1               1.0                26                 13   \n",
       "2               1.0                 7                 10   \n",
       "3               1.0                19                 11   \n",
       "4               1.0                15                 13   \n",
       "\n",
       "   PrePatternComp_Accuracy  PrePatternComp_AttemptedTrials  \\\n",
       "0                 0.976744                              43   \n",
       "1                 1.000000                              30   \n",
       "2                 0.900000                              30   \n",
       "3                 0.936170                              47   \n",
       "4                 0.933333                              45   \n",
       "\n",
       "   PrePatternComp_CorrectTrials  PrePatternComp_AvgRT  \\\n",
       "0                            42           1248.720930   \n",
       "1                            30           1718.400000   \n",
       "2                            27           1839.200000   \n",
       "3                            44           1117.765957   \n",
       "4                            42           1197.733333   \n",
       "\n",
       "   PrePatternComp_AvgCorrectTrialRT  \n",
       "0                       1239.857143  \n",
       "1                       1718.400000  \n",
       "2                       1858.629630  \n",
       "3                       1131.750000  \n",
       "4                       1200.238095  "
      ]
     },
     "execution_count": 3,
     "metadata": {},
     "output_type": "execute_result"
    }
   ],
   "source": [
    "td.head()"
   ]
  },
  {
   "cell_type": "markdown",
   "metadata": {},
   "source": [
    "Gross, looks like it's arbitrarily sorted. Let's just fix that really quick."
   ]
  },
  {
   "cell_type": "code",
   "execution_count": 4,
   "metadata": {},
   "outputs": [
    {
     "data": {
      "text/html": [
       "<div>\n",
       "<style>\n",
       "    .dataframe thead tr:only-child th {\n",
       "        text-align: right;\n",
       "    }\n",
       "\n",
       "    .dataframe thead th {\n",
       "        text-align: left;\n",
       "    }\n",
       "\n",
       "    .dataframe tbody tr th {\n",
       "        vertical-align: top;\n",
       "    }\n",
       "</style>\n",
       "<table border=\"1\" class=\"dataframe\">\n",
       "  <thead>\n",
       "    <tr style=\"text-align: right;\">\n",
       "      <th></th>\n",
       "      <th>Subject</th>\n",
       "      <th>Age</th>\n",
       "      <th>Gender</th>\n",
       "      <th>PreFigureSeries</th>\n",
       "      <th>PreLSATReasoning</th>\n",
       "      <th>PreLetterComp_Accuracy</th>\n",
       "      <th>PreLetterComp_AttemptedTrials</th>\n",
       "      <th>PreLetterComp_CorrectTrials</th>\n",
       "      <th>PreLetterComp_AvgRT</th>\n",
       "      <th>PreLetterComp_AvgCorrectTrialRT</th>\n",
       "      <th>PreDSST_Attempted</th>\n",
       "      <th>PreDSST_Correct</th>\n",
       "      <th>PreDSST_Accuracy</th>\n",
       "      <th>PostFigureSeries</th>\n",
       "      <th>PostLSATReasoning</th>\n",
       "      <th>PrePatternComp_Accuracy</th>\n",
       "      <th>PrePatternComp_AttemptedTrials</th>\n",
       "      <th>PrePatternComp_CorrectTrials</th>\n",
       "      <th>PrePatternComp_AvgRT</th>\n",
       "      <th>PrePatternComp_AvgCorrectTrialRT</th>\n",
       "    </tr>\n",
       "  </thead>\n",
       "  <tbody>\n",
       "    <tr>\n",
       "      <th>10</th>\n",
       "      <td>1</td>\n",
       "      <td>34</td>\n",
       "      <td>1</td>\n",
       "      <td>15</td>\n",
       "      <td>9</td>\n",
       "      <td>1.000000</td>\n",
       "      <td>26.0</td>\n",
       "      <td>26.0</td>\n",
       "      <td>2176.846154</td>\n",
       "      <td>2176.846154</td>\n",
       "      <td>87</td>\n",
       "      <td>87</td>\n",
       "      <td>1.000000</td>\n",
       "      <td>17</td>\n",
       "      <td>13</td>\n",
       "      <td>0.970588</td>\n",
       "      <td>34</td>\n",
       "      <td>33</td>\n",
       "      <td>1583.970588</td>\n",
       "      <td>1566.333333</td>\n",
       "    </tr>\n",
       "    <tr>\n",
       "      <th>17</th>\n",
       "      <td>2</td>\n",
       "      <td>30</td>\n",
       "      <td>1</td>\n",
       "      <td>21</td>\n",
       "      <td>13</td>\n",
       "      <td>1.000000</td>\n",
       "      <td>24.0</td>\n",
       "      <td>24.0</td>\n",
       "      <td>2232.958333</td>\n",
       "      <td>2232.958333</td>\n",
       "      <td>86</td>\n",
       "      <td>85</td>\n",
       "      <td>0.988372</td>\n",
       "      <td>28</td>\n",
       "      <td>14</td>\n",
       "      <td>1.000000</td>\n",
       "      <td>32</td>\n",
       "      <td>32</td>\n",
       "      <td>1723.062500</td>\n",
       "      <td>1723.062500</td>\n",
       "    </tr>\n",
       "    <tr>\n",
       "      <th>18</th>\n",
       "      <td>3</td>\n",
       "      <td>22</td>\n",
       "      <td>2</td>\n",
       "      <td>23</td>\n",
       "      <td>19</td>\n",
       "      <td>NaN</td>\n",
       "      <td>NaN</td>\n",
       "      <td>NaN</td>\n",
       "      <td>NaN</td>\n",
       "      <td>NaN</td>\n",
       "      <td>90</td>\n",
       "      <td>89</td>\n",
       "      <td>0.988889</td>\n",
       "      <td>30</td>\n",
       "      <td>19</td>\n",
       "      <td>0.962264</td>\n",
       "      <td>53</td>\n",
       "      <td>51</td>\n",
       "      <td>1000.452830</td>\n",
       "      <td>1011.411765</td>\n",
       "    </tr>\n",
       "    <tr>\n",
       "      <th>19</th>\n",
       "      <td>4</td>\n",
       "      <td>19</td>\n",
       "      <td>1</td>\n",
       "      <td>23</td>\n",
       "      <td>14</td>\n",
       "      <td>0.888889</td>\n",
       "      <td>27.0</td>\n",
       "      <td>24.0</td>\n",
       "      <td>2099.518519</td>\n",
       "      <td>2091.458333</td>\n",
       "      <td>91</td>\n",
       "      <td>91</td>\n",
       "      <td>1.000000</td>\n",
       "      <td>23</td>\n",
       "      <td>10</td>\n",
       "      <td>0.942857</td>\n",
       "      <td>35</td>\n",
       "      <td>33</td>\n",
       "      <td>1539.685714</td>\n",
       "      <td>1522.969697</td>\n",
       "    </tr>\n",
       "    <tr>\n",
       "      <th>20</th>\n",
       "      <td>5</td>\n",
       "      <td>20</td>\n",
       "      <td>1</td>\n",
       "      <td>15</td>\n",
       "      <td>16</td>\n",
       "      <td>0.862069</td>\n",
       "      <td>29.0</td>\n",
       "      <td>25.0</td>\n",
       "      <td>1944.965517</td>\n",
       "      <td>1894.080000</td>\n",
       "      <td>99</td>\n",
       "      <td>98</td>\n",
       "      <td>0.989899</td>\n",
       "      <td>19</td>\n",
       "      <td>11</td>\n",
       "      <td>0.935484</td>\n",
       "      <td>31</td>\n",
       "      <td>29</td>\n",
       "      <td>1785.548387</td>\n",
       "      <td>1755.103448</td>\n",
       "    </tr>\n",
       "  </tbody>\n",
       "</table>\n",
       "</div>"
      ],
      "text/plain": [
       "    Subject  Age  Gender  PreFigureSeries  PreLSATReasoning  \\\n",
       "10        1   34       1               15                 9   \n",
       "17        2   30       1               21                13   \n",
       "18        3   22       2               23                19   \n",
       "19        4   19       1               23                14   \n",
       "20        5   20       1               15                16   \n",
       "\n",
       "    PreLetterComp_Accuracy  PreLetterComp_AttemptedTrials  \\\n",
       "10                1.000000                           26.0   \n",
       "17                1.000000                           24.0   \n",
       "18                     NaN                            NaN   \n",
       "19                0.888889                           27.0   \n",
       "20                0.862069                           29.0   \n",
       "\n",
       "    PreLetterComp_CorrectTrials  PreLetterComp_AvgRT  \\\n",
       "10                         26.0          2176.846154   \n",
       "17                         24.0          2232.958333   \n",
       "18                          NaN                  NaN   \n",
       "19                         24.0          2099.518519   \n",
       "20                         25.0          1944.965517   \n",
       "\n",
       "    PreLetterComp_AvgCorrectTrialRT  PreDSST_Attempted  PreDSST_Correct  \\\n",
       "10                      2176.846154                 87               87   \n",
       "17                      2232.958333                 86               85   \n",
       "18                              NaN                 90               89   \n",
       "19                      2091.458333                 91               91   \n",
       "20                      1894.080000                 99               98   \n",
       "\n",
       "    PreDSST_Accuracy  PostFigureSeries  PostLSATReasoning  \\\n",
       "10          1.000000                17                 13   \n",
       "17          0.988372                28                 14   \n",
       "18          0.988889                30                 19   \n",
       "19          1.000000                23                 10   \n",
       "20          0.989899                19                 11   \n",
       "\n",
       "    PrePatternComp_Accuracy  PrePatternComp_AttemptedTrials  \\\n",
       "10                 0.970588                              34   \n",
       "17                 1.000000                              32   \n",
       "18                 0.962264                              53   \n",
       "19                 0.942857                              35   \n",
       "20                 0.935484                              31   \n",
       "\n",
       "    PrePatternComp_CorrectTrials  PrePatternComp_AvgRT  \\\n",
       "10                            33           1583.970588   \n",
       "17                            32           1723.062500   \n",
       "18                            51           1000.452830   \n",
       "19                            33           1539.685714   \n",
       "20                            29           1785.548387   \n",
       "\n",
       "    PrePatternComp_AvgCorrectTrialRT  \n",
       "10                       1566.333333  \n",
       "17                       1723.062500  \n",
       "18                       1011.411765  \n",
       "19                       1522.969697  \n",
       "20                       1755.103448  "
      ]
     },
     "execution_count": 4,
     "metadata": {},
     "output_type": "execute_result"
    }
   ],
   "source": [
    "# sort by Subject\n",
    "td.set_index('Subject')\n",
    "td.sort_values(['Subject']).head()"
   ]
  },
  {
   "cell_type": "markdown",
   "metadata": {},
   "source": [
    "That's better. So it looks like we have two different pre/post tests to compare. The LSATReasoning, and the FigureSeries\n",
    "***"
   ]
  },
  {
   "cell_type": "markdown",
   "metadata": {},
   "source": [
    "\n",
    "## Analysis - Part 1\n",
    "\n",
    "Let's plot both just to see what we're working with"
   ]
  },
  {
   "cell_type": "code",
   "execution_count": 35,
   "metadata": {},
   "outputs": [
    {
     "data": {
      "image/png": "[encoded data removed]",
      "text/plain": [
       "<matplotlib.figure.Figure at 0x243f591a240>"
      ]
     },
     "metadata": {},
     "output_type": "display_data"
    }
   ],
   "source": [
    "fig, axes = plt.subplots(nrows=1, ncols=2, figsize=(12, 6), sharey=True)\n",
    "axes[0].boxplot([td['PreLSATReasoning'], td['PostLSATReasoning']], labels=[\"Pre\", \"Post\"])\n",
    "axes[0].set_title('LSAT Reasoning', fontsize=14)\n",
    "\n",
    "axes[1].boxplot([td['PreFigureSeries'], td['PostFigureSeries']], labels=[\"Pre\", \"Post\"])\n",
    "axes[1].set_title('Figure Series', fontsize=14)\n",
    "plt.show()"
   ]
  },
  {
   "cell_type": "markdown",
   "metadata": {},
   "source": [
    "Hmm, doesn't look like there's much variation. Let's run some t-tests, though, just to be sure.\n",
    "***\n",
    "Remember, a t-test is used to compare the means of two different samples in relation to the variations in the data.\n",
    "\n",
    "> our null hypothesis is that the pre and post series are not statistically different, which would result in a p-value > 0.05"
   ]
  },
  {
   "cell_type": "code",
   "execution_count": 39,
   "metadata": {},
   "outputs": [
    {
     "data": {
      "text/plain": [
       "0.45076787849712463"
      ]
     },
     "execution_count": 39,
     "metadata": {},
     "output_type": "execute_result"
    }
   ],
   "source": [
    "scipy.stats.ttest_ind(td['PostFigureSeries'], td['PreFigureSeries']).pvalue"
   ]
  },
  {
   "cell_type": "code",
   "execution_count": 40,
   "metadata": {},
   "outputs": [
    {
     "data": {
      "text/plain": [
       "0.93779903968594625"
      ]
     },
     "execution_count": 40,
     "metadata": {},
     "output_type": "execute_result"
    }
   ],
   "source": [
    "scipy.stats.ttest_ind(td['PostLSATReasoning'], td['PreLSATReasoning']).pvalue"
   ]
  },
  {
   "cell_type": "markdown",
   "metadata": {},
   "source": [
    "Our p-values are 0.45 and 0.937. Not very promising.\n",
    "<Enter> \n",
    "<dl>\n",
    "  <dt>Conclusion:</dt>\n",
    "  <dd>We cannot reject the null hypothesis</dd>\n",
    "</dl>\n",
    "***"
   ]
  },
  {
   "cell_type": "markdown",
   "metadata": {},
   "source": [
    "## Analysis - Part 2\n",
    "\n",
    "Let's do something else. Instead of looking at the pre/post tests, let's look at the training tests.\n",
    "> We'll try to plot each subject's difficulty level over the trials to see if we can describe the trend"
   ]
  },
  {
   "cell_type": "code",
   "execution_count": 43,
   "metadata": {},
   "outputs": [],
   "source": [
    "# import training data file names\n",
    "path =r'C:\\Users\\howen\\Documents\\GitHub\\neurotechIEEE\\Subjects'\n",
    "filenames = glob.glob(path + \"/*.csv\")\n",
    "\n",
    "# make a dataframe for each file\n",
    "dfs = []\n",
    "for filename in filenames:\n",
    "    dfs.append(pd.read_csv(filename))\n",
    "\n",
    "# Concatenate all data into one DataFrame\n",
    "all_subjects = pd.concat(dfs, ignore_index=True)"
   ]
  },
  {
   "cell_type": "markdown",
   "metadata": {},
   "source": [
    "Let's check out what we have."
   ]
  },
  {
   "cell_type": "code",
   "execution_count": null,
   "metadata": {},
   "outputs": [],
   "source": []
  },
  {
   "cell_type": "markdown",
   "metadata": {},
   "source": [
    "Awesome. The dataframe holds each subject's 48 trials and their ratings for each one. Now let's plot each subjects' difficulty over time."
   ]
  },
  {
   "cell_type": "code",
   "execution_count": 74,
   "metadata": {},
   "outputs": [],
   "source": [
    "all_subjects.filter(items=['1'], axis=1)\n",
    "\n",
    "first = all_subjects.loc[all_subjects['Subject'] == 1]\n",
    "start = first.loc[first['Version'] == 1]"
   ]
  },
  {
   "cell_type": "code",
   "execution_count": null,
   "metadata": {
    "collapsed": true
   },
   "outputs": [],
   "source": []
  }
 ],
 "metadata": {
  "kernelspec": {
   "display_name": "Python 3",
   "language": "python",
   "name": "python3"
  },
  "language_info": {
   "codemirror_mode": {
    "name": "ipython",
    "version": 3
   },
   "file_extension": ".py",
   "mimetype": "text/x-python",
   "name": "python",
   "nbconvert_exporter": "python",
   "pygments_lexer": "ipython3",
   "version": "3.6.1"
  }
 },
 "nbformat": 4,
 "nbformat_minor": 2
}
