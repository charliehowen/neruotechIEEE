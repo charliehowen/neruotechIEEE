{
 "cells": [
  {
   "cell_type": "markdown",
   "metadata": {},
   "source": [
    "Main Question: \n",
    "Does brain training work?\n",
    "\n",
    "Sub Questions: \n",
    "Is there a statistically significant difference between the pre and post test scores?\n",
    "\n",
    "Do performance changes on the two training intervention tasks differ? How do they each relate to changes in pre- and post-intervention performance and/or imaging data?\n",
    "\n",
    "How well can we predict post-intervention performance? Beyond pre-intervention performance, what factors serve as the best predictors?\n",
    "\n",
    "Tests Used:ahhhhhhhhhhhh\n",
    "\n"
   ]
  },
  {
   "cell_type": "code",
   "execution_count": null,
   "metadata": {
    "collapsed": true
   },
   "outputs": [],
   "source": [
    "load "
   ]
  }
 ],
 "metadata": {
  "kernelspec": {
   "display_name": "Python 2",
   "language": "python",
   "name": "python2"
  },
  "language_info": {
   "codemirror_mode": {
    "name": "ipython",
    "version": 2
   },
   "file_extension": ".py",
   "mimetype": "text/x-python",
   "name": "python",
   "nbconvert_exporter": "python",
   "pygments_lexer": "ipython2",
   "version": "2.7.6"
  }
 },
 "nbformat": 4,
 "nbformat_minor": 0
}
