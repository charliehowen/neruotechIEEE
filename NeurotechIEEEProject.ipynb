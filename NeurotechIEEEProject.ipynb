{
 "cells": [
  {
   "cell_type": "markdown",
   "metadata": {},
   "source": [
    "Main Question: \n",
    "Does brain training work?\n",
    "\n",
    "Sub Questions: \n",
    "Is there a statistically significant difference between the pre and post test scores? -- BOTH\n",
    "\n",
    "Do performance changes on the two training intervention tasks differ? How do they each relate to changes in pre- and post-intervention performance? -- CHARLIE\n",
    "\n",
    "How well can we predict post-intervention performance? Beyond pre-intervention performance, what factors serve as the best predictors? -- JOE\n",
    "\n",
    "Tests Used: ahhhhh"
   ]
  },
  {
   "cell_type": "code",
   "execution_count": 9,
   "metadata": {},
   "outputs": [],
   "source": [
    "%matplotlib inline\n",
    "import pandas as pd\n",
    "import os\n",
    "import numpy as np\n",
    "import pandas as pd\n",
    "from matplotlib import pyplot as plt\n",
    "import matplotlib.cm as cm\n",
    "import scipy.stats\n",
    "from pylab import plot, show, savefig, xlim, figure, \\\n",
    "                hold, ylim, legend, boxplot, setp, axes\n",
    "\n",
    "df = pd.read_csv(os.path.join(os.getcwd(),'PrePostData/TestingDataALL1.csv'))"
   ]
  },
  {
   "cell_type": "code",
   "execution_count": 3,
   "metadata": {},
   "outputs": [
    {
     "data": {
      "text/html": [
       "<div>\n",
       "<style>\n",
       "    .dataframe thead tr:only-child th {\n",
       "        text-align: right;\n",
       "    }\n",
       "\n",
       "    .dataframe thead th {\n",
       "        text-align: left;\n",
       "    }\n",
       "\n",
       "    .dataframe tbody tr th {\n",
       "        vertical-align: top;\n",
       "    }\n",
       "</style>\n",
       "<table border=\"1\" class=\"dataframe\">\n",
       "  <thead>\n",
       "    <tr style=\"text-align: right;\">\n",
       "      <th></th>\n",
       "      <th>Subject</th>\n",
       "      <th>Age</th>\n",
       "      <th>Gender</th>\n",
       "      <th>PreFigureSeries</th>\n",
       "      <th>PreLSATReasoning</th>\n",
       "      <th>PreLetterComp_Accuracy</th>\n",
       "      <th>PreLetterComp_AttemptedTrials</th>\n",
       "      <th>PreLetterComp_CorrectTrials</th>\n",
       "      <th>PreLetterComp_AvgRT</th>\n",
       "      <th>PreLetterComp_AvgCorrectTrialRT</th>\n",
       "      <th>PreDSST_Attempted</th>\n",
       "      <th>PreDSST_Correct</th>\n",
       "      <th>PreDSST_Accuracy</th>\n",
       "      <th>PostFigureSeries</th>\n",
       "      <th>PostLSATReasoning</th>\n",
       "      <th>PrePatternComp_Accuracy</th>\n",
       "      <th>PrePatternComp_AttemptedTrials</th>\n",
       "      <th>PrePatternComp_CorrectTrials</th>\n",
       "      <th>PrePatternComp_AvgRT</th>\n",
       "      <th>PrePatternComp_AvgCorrectTrialRT</th>\n",
       "    </tr>\n",
       "  </thead>\n",
       "  <tbody>\n",
       "    <tr>\n",
       "      <th>10</th>\n",
       "      <td>1</td>\n",
       "      <td>34</td>\n",
       "      <td>1</td>\n",
       "      <td>15</td>\n",
       "      <td>9</td>\n",
       "      <td>1.000000</td>\n",
       "      <td>26.0</td>\n",
       "      <td>26.0</td>\n",
       "      <td>2176.846154</td>\n",
       "      <td>2176.846154</td>\n",
       "      <td>87</td>\n",
       "      <td>87</td>\n",
       "      <td>1.000000</td>\n",
       "      <td>17</td>\n",
       "      <td>13</td>\n",
       "      <td>0.970588</td>\n",
       "      <td>34</td>\n",
       "      <td>33</td>\n",
       "      <td>1583.970588</td>\n",
       "      <td>1566.333333</td>\n",
       "    </tr>\n",
       "    <tr>\n",
       "      <th>17</th>\n",
       "      <td>2</td>\n",
       "      <td>30</td>\n",
       "      <td>1</td>\n",
       "      <td>21</td>\n",
       "      <td>13</td>\n",
       "      <td>1.000000</td>\n",
       "      <td>24.0</td>\n",
       "      <td>24.0</td>\n",
       "      <td>2232.958333</td>\n",
       "      <td>2232.958333</td>\n",
       "      <td>86</td>\n",
       "      <td>85</td>\n",
       "      <td>0.988372</td>\n",
       "      <td>28</td>\n",
       "      <td>14</td>\n",
       "      <td>1.000000</td>\n",
       "      <td>32</td>\n",
       "      <td>32</td>\n",
       "      <td>1723.062500</td>\n",
       "      <td>1723.062500</td>\n",
       "    </tr>\n",
       "    <tr>\n",
       "      <th>18</th>\n",
       "      <td>3</td>\n",
       "      <td>22</td>\n",
       "      <td>2</td>\n",
       "      <td>23</td>\n",
       "      <td>19</td>\n",
       "      <td>NaN</td>\n",
       "      <td>NaN</td>\n",
       "      <td>NaN</td>\n",
       "      <td>NaN</td>\n",
       "      <td>NaN</td>\n",
       "      <td>90</td>\n",
       "      <td>89</td>\n",
       "      <td>0.988889</td>\n",
       "      <td>30</td>\n",
       "      <td>19</td>\n",
       "      <td>0.962264</td>\n",
       "      <td>53</td>\n",
       "      <td>51</td>\n",
       "      <td>1000.452830</td>\n",
       "      <td>1011.411765</td>\n",
       "    </tr>\n",
       "    <tr>\n",
       "      <th>19</th>\n",
       "      <td>4</td>\n",
       "      <td>19</td>\n",
       "      <td>1</td>\n",
       "      <td>23</td>\n",
       "      <td>14</td>\n",
       "      <td>0.888889</td>\n",
       "      <td>27.0</td>\n",
       "      <td>24.0</td>\n",
       "      <td>2099.518519</td>\n",
       "      <td>2091.458333</td>\n",
       "      <td>91</td>\n",
       "      <td>91</td>\n",
       "      <td>1.000000</td>\n",
       "      <td>23</td>\n",
       "      <td>10</td>\n",
       "      <td>0.942857</td>\n",
       "      <td>35</td>\n",
       "      <td>33</td>\n",
       "      <td>1539.685714</td>\n",
       "      <td>1522.969697</td>\n",
       "    </tr>\n",
       "    <tr>\n",
       "      <th>20</th>\n",
       "      <td>5</td>\n",
       "      <td>20</td>\n",
       "      <td>1</td>\n",
       "      <td>15</td>\n",
       "      <td>16</td>\n",
       "      <td>0.862069</td>\n",
       "      <td>29.0</td>\n",
       "      <td>25.0</td>\n",
       "      <td>1944.965517</td>\n",
       "      <td>1894.080000</td>\n",
       "      <td>99</td>\n",
       "      <td>98</td>\n",
       "      <td>0.989899</td>\n",
       "      <td>19</td>\n",
       "      <td>11</td>\n",
       "      <td>0.935484</td>\n",
       "      <td>31</td>\n",
       "      <td>29</td>\n",
       "      <td>1785.548387</td>\n",
       "      <td>1755.103448</td>\n",
       "    </tr>\n",
       "  </tbody>\n",
       "</table>\n",
       "</div>"
      ],
      "text/plain": [
       "    Subject  Age  Gender  PreFigureSeries  PreLSATReasoning  \\\n",
       "10        1   34       1               15                 9   \n",
       "17        2   30       1               21                13   \n",
       "18        3   22       2               23                19   \n",
       "19        4   19       1               23                14   \n",
       "20        5   20       1               15                16   \n",
       "\n",
       "    PreLetterComp_Accuracy  PreLetterComp_AttemptedTrials  \\\n",
       "10                1.000000                           26.0   \n",
       "17                1.000000                           24.0   \n",
       "18                     NaN                            NaN   \n",
       "19                0.888889                           27.0   \n",
       "20                0.862069                           29.0   \n",
       "\n",
       "    PreLetterComp_CorrectTrials  PreLetterComp_AvgRT  \\\n",
       "10                         26.0          2176.846154   \n",
       "17                         24.0          2232.958333   \n",
       "18                          NaN                  NaN   \n",
       "19                         24.0          2099.518519   \n",
       "20                         25.0          1944.965517   \n",
       "\n",
       "    PreLetterComp_AvgCorrectTrialRT  PreDSST_Attempted  PreDSST_Correct  \\\n",
       "10                      2176.846154                 87               87   \n",
       "17                      2232.958333                 86               85   \n",
       "18                              NaN                 90               89   \n",
       "19                      2091.458333                 91               91   \n",
       "20                      1894.080000                 99               98   \n",
       "\n",
       "    PreDSST_Accuracy  PostFigureSeries  PostLSATReasoning  \\\n",
       "10          1.000000                17                 13   \n",
       "17          0.988372                28                 14   \n",
       "18          0.988889                30                 19   \n",
       "19          1.000000                23                 10   \n",
       "20          0.989899                19                 11   \n",
       "\n",
       "    PrePatternComp_Accuracy  PrePatternComp_AttemptedTrials  \\\n",
       "10                 0.970588                              34   \n",
       "17                 1.000000                              32   \n",
       "18                 0.962264                              53   \n",
       "19                 0.942857                              35   \n",
       "20                 0.935484                              31   \n",
       "\n",
       "    PrePatternComp_CorrectTrials  PrePatternComp_AvgRT  \\\n",
       "10                            33           1583.970588   \n",
       "17                            32           1723.062500   \n",
       "18                            51           1000.452830   \n",
       "19                            33           1539.685714   \n",
       "20                            29           1785.548387   \n",
       "\n",
       "    PrePatternComp_AvgCorrectTrialRT  \n",
       "10                       1566.333333  \n",
       "17                       1723.062500  \n",
       "18                       1011.411765  \n",
       "19                       1522.969697  \n",
       "20                       1755.103448  "
      ]
     },
     "execution_count": 3,
     "metadata": {},
     "output_type": "execute_result"
    }
   ],
   "source": [
    "df.set_index('Subject')\n",
    "df.sort_values(['Subject']).head()"
   ]
  },
  {
   "cell_type": "code",
   "execution_count": 4,
   "metadata": {},
   "outputs": [
    {
     "data": {
      "text/plain": [
       "count    25.000000\n",
       "mean     20.320000\n",
       "std       6.650313\n",
       "min       7.000000\n",
       "25%      17.000000\n",
       "50%      20.000000\n",
       "75%      26.000000\n",
       "max      30.000000\n",
       "Name: PostFigureSeries, dtype: float64"
      ]
     },
     "execution_count": 4,
     "metadata": {},
     "output_type": "execute_result"
    }
   ],
   "source": [
    "df['PostFigureSeries'].describe()"
   ]
  },
  {
   "cell_type": "code",
   "execution_count": 5,
   "metadata": {},
   "outputs": [
    {
     "data": {
      "text/plain": [
       "count    25.00000\n",
       "mean     19.04000\n",
       "std       5.15978\n",
       "min      10.00000\n",
       "25%      15.00000\n",
       "50%      19.00000\n",
       "75%      23.00000\n",
       "max      29.00000\n",
       "Name: PreFigureSeries, dtype: float64"
      ]
     },
     "execution_count": 5,
     "metadata": {},
     "output_type": "execute_result"
    }
   ],
   "source": [
    "df['PreFigureSeries'].describe()"
   ]
  },
  {
   "cell_type": "code",
   "execution_count": 6,
   "metadata": {},
   "outputs": [
    {
     "data": {
      "image/png": "[encoded data removed]",
      "text/plain": [
       "<matplotlib.figure.Figure at 0x1c6af425b38>"
      ]
     },
     "metadata": {},
     "output_type": "display_data"
    }
   ],
   "source": [
    "fig = figure()\n",
    "ax = axes()\n",
    "\n",
    "plt.boxplot([df['PreFigureSeries'], df['PostFigureSeries']])\n",
    "show()"
   ]
  },
  {
   "cell_type": "code",
   "execution_count": 7,
   "metadata": {},
   "outputs": [
    {
     "data": {
      "image/png": "[encoded data removed]",
      "text/plain": [
       "<matplotlib.figure.Figure at 0x1c6af425f98>"
      ]
     },
     "metadata": {},
     "output_type": "display_data"
    }
   ],
   "source": [
    "plt.boxplot([df['PreLSATReasoning'], df['PostLSATReasoning']])\n",
    "show()"
   ]
  },
  {
   "cell_type": "code",
   "execution_count": 10,
   "metadata": {},
   "outputs": [
    {
     "data": {
      "text/plain": [
       "Ttest_indResult(statistic=0.76034386604782778, pvalue=0.45076787849712463)"
      ]
     },
     "execution_count": 10,
     "metadata": {},
     "output_type": "execute_result"
    }
   ],
   "source": [
    "scipy.stats.ttest_ind(df['PostFigureSeries'], df['PreFigureSeries'])"
   ]
  },
  {
   "cell_type": "code",
   "execution_count": 11,
   "metadata": {},
   "outputs": [
    {
     "data": {
      "text/plain": [
       "Ttest_indResult(statistic=0.078446454055273673, pvalue=0.93779903968594625)"
      ]
     },
     "execution_count": 11,
     "metadata": {},
     "output_type": "execute_result"
    }
   ],
   "source": [
    "scipy.stats.ttest_ind(df['PostLSATReasoning'], df['PreLSATReasoning'])"
   ]
  },
  {
   "cell_type": "code",
   "execution_count": null,
   "metadata": {
    "collapsed": true
   },
   "outputs": [],
   "source": []
  }
 ],
 "metadata": {
  "kernelspec": {
   "display_name": "Python 3",
   "language": "python",
   "name": "python3"
  },
  "language_info": {
   "codemirror_mode": {
    "name": "ipython",
    "version": 3
   },
   "file_extension": ".py",
   "mimetype": "text/x-python",
   "name": "python",
   "nbconvert_exporter": "python",
   "pygments_lexer": "ipython3",
   "version": "3.6.1"
  }
 },
 "nbformat": 4,
 "nbformat_minor": 1
}
